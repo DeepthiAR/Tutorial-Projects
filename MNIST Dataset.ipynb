{
 "cells": [
  {
   "cell_type": "code",
   "execution_count": 1,
   "metadata": {
    "collapsed": true
   },
   "outputs": [
    {
     "name": "stderr",
     "output_type": "stream",
     "text": [
      "Using TensorFlow backend.\n",
      "/home/hp/.local/lib/python3.6/site-packages/tensorflow/python/framework/dtypes.py:516: FutureWarning: Passing (type, 1) or '1type' as a synonym of type is deprecated; in a future version of numpy, it will be understood as (type, (1,)) / '(1,)type'.\n",
      "  _np_qint8 = np.dtype([(\"qint8\", np.int8, 1)])\n",
      "/home/hp/.local/lib/python3.6/site-packages/tensorflow/python/framework/dtypes.py:517: FutureWarning: Passing (type, 1) or '1type' as a synonym of type is deprecated; in a future version of numpy, it will be understood as (type, (1,)) / '(1,)type'.\n",
      "  _np_quint8 = np.dtype([(\"quint8\", np.uint8, 1)])\n",
      "/home/hp/.local/lib/python3.6/site-packages/tensorflow/python/framework/dtypes.py:518: FutureWarning: Passing (type, 1) or '1type' as a synonym of type is deprecated; in a future version of numpy, it will be understood as (type, (1,)) / '(1,)type'.\n",
      "  _np_qint16 = np.dtype([(\"qint16\", np.int16, 1)])\n",
      "/home/hp/.local/lib/python3.6/site-packages/tensorflow/python/framework/dtypes.py:519: FutureWarning: Passing (type, 1) or '1type' as a synonym of type is deprecated; in a future version of numpy, it will be understood as (type, (1,)) / '(1,)type'.\n",
      "  _np_quint16 = np.dtype([(\"quint16\", np.uint16, 1)])\n",
      "/home/hp/.local/lib/python3.6/site-packages/tensorflow/python/framework/dtypes.py:520: FutureWarning: Passing (type, 1) or '1type' as a synonym of type is deprecated; in a future version of numpy, it will be understood as (type, (1,)) / '(1,)type'.\n",
      "  _np_qint32 = np.dtype([(\"qint32\", np.int32, 1)])\n",
      "/home/hp/.local/lib/python3.6/site-packages/tensorflow/python/framework/dtypes.py:525: FutureWarning: Passing (type, 1) or '1type' as a synonym of type is deprecated; in a future version of numpy, it will be understood as (type, (1,)) / '(1,)type'.\n",
      "  np_resource = np.dtype([(\"resource\", np.ubyte, 1)])\n",
      "/home/hp/.local/lib/python3.6/site-packages/tensorboard/compat/tensorflow_stub/dtypes.py:541: FutureWarning: Passing (type, 1) or '1type' as a synonym of type is deprecated; in a future version of numpy, it will be understood as (type, (1,)) / '(1,)type'.\n",
      "  _np_qint8 = np.dtype([(\"qint8\", np.int8, 1)])\n",
      "/home/hp/.local/lib/python3.6/site-packages/tensorboard/compat/tensorflow_stub/dtypes.py:542: FutureWarning: Passing (type, 1) or '1type' as a synonym of type is deprecated; in a future version of numpy, it will be understood as (type, (1,)) / '(1,)type'.\n",
      "  _np_quint8 = np.dtype([(\"quint8\", np.uint8, 1)])\n",
      "/home/hp/.local/lib/python3.6/site-packages/tensorboard/compat/tensorflow_stub/dtypes.py:543: FutureWarning: Passing (type, 1) or '1type' as a synonym of type is deprecated; in a future version of numpy, it will be understood as (type, (1,)) / '(1,)type'.\n",
      "  _np_qint16 = np.dtype([(\"qint16\", np.int16, 1)])\n",
      "/home/hp/.local/lib/python3.6/site-packages/tensorboard/compat/tensorflow_stub/dtypes.py:544: FutureWarning: Passing (type, 1) or '1type' as a synonym of type is deprecated; in a future version of numpy, it will be understood as (type, (1,)) / '(1,)type'.\n",
      "  _np_quint16 = np.dtype([(\"quint16\", np.uint16, 1)])\n",
      "/home/hp/.local/lib/python3.6/site-packages/tensorboard/compat/tensorflow_stub/dtypes.py:545: FutureWarning: Passing (type, 1) or '1type' as a synonym of type is deprecated; in a future version of numpy, it will be understood as (type, (1,)) / '(1,)type'.\n",
      "  _np_qint32 = np.dtype([(\"qint32\", np.int32, 1)])\n",
      "/home/hp/.local/lib/python3.6/site-packages/tensorboard/compat/tensorflow_stub/dtypes.py:550: FutureWarning: Passing (type, 1) or '1type' as a synonym of type is deprecated; in a future version of numpy, it will be understood as (type, (1,)) / '(1,)type'.\n",
      "  np_resource = np.dtype([(\"resource\", np.ubyte, 1)])\n"
     ]
    }
   ],
   "source": [
    "from keras.datasets import mnist\n",
    "from matplotlib import pyplot\n",
    "from keras.utils import to_categorical\n",
    "from keras.models import Sequential\n",
    "from keras.layers import Conv2D, MaxPooling2D,Dense,Flatten,Dropout\n",
    "from keras.optimizers import Adam\n",
    "from keras.layers import BatchNormalization,GlobalMaxPooling2D"
   ]
  },
  {
   "cell_type": "code",
   "execution_count": 2,
   "metadata": {},
   "outputs": [],
   "source": [
    "(trainX,trainY),(testX,testY) = mnist.load_data()\n",
    "\n",
    "trainX = trainX.reshape((trainX.shape[0],28,28,1))\n",
    "testX = testX.reshape((testX.shape[0],28,28,1))\n",
    "\n",
    "trainY = to_categorical(trainY)\n",
    "testY = to_categorical(testY)\n",
    "\n",
    "trainX = trainX.astype('float32')\n",
    "testX = testX.astype('float32')\n",
    "\n",
    "trainX = trainX / 255.0\n",
    "testX = testX / 255.0\n",
    "    "
   ]
  },
  {
   "cell_type": "code",
   "execution_count": 3,
   "metadata": {},
   "outputs": [
    {
     "name": "stdout",
     "output_type": "stream",
     "text": [
      "(60000, 28, 28, 1)\n",
      "(60000, 10)\n",
      "(10000, 28, 28, 1)\n",
      "(10000, 10)\n"
     ]
    }
   ],
   "source": [
    "print(trainX.shape)\n",
    "print(trainY.shape)\n",
    "print(testX.shape)\n",
    "print(testY.shape)"
   ]
  },
  {
   "cell_type": "code",
   "execution_count": 4,
   "metadata": {},
   "outputs": [],
   "source": [
    "model = Sequential()\n",
    "model.add(Conv2D(32,(3,3),activation = 'relu'))\n",
    "model.add(MaxPooling2D(2,2))\n",
    "model.add(Flatten())\n",
    "model.add(Dense(100, activation = 'relu'))\n",
    "model.add(Dense(10,activation = 'softmax'))\n",
    "opt = Adam()\n",
    "model.compile(optimizer = opt, loss = 'categorical_crossentropy', metrics = ['accuracy'])\n",
    "    "
   ]
  },
  {
   "cell_type": "code",
   "execution_count": 5,
   "metadata": {
    "collapsed": true
   },
   "outputs": [
    {
     "name": "stdout",
     "output_type": "stream",
     "text": [
      "WARNING:tensorflow:From /home/hp/.local/lib/python3.6/site-packages/keras/backend/tensorflow_backend.py:4070: The name tf.nn.max_pool is deprecated. Please use tf.nn.max_pool2d instead.\n",
      "\n",
      "WARNING:tensorflow:From /home/hp/.local/lib/python3.6/site-packages/keras/backend/tensorflow_backend.py:422: The name tf.global_variables is deprecated. Please use tf.compat.v1.global_variables instead.\n",
      "\n",
      "Train on 60000 samples, validate on 10000 samples\n",
      "Epoch 1/50\n",
      "60000/60000 [==============================] - 18s 299us/step - loss: 0.2406 - accuracy: 0.9313 - val_loss: 0.0957 - val_accuracy: 0.9723\n",
      "Epoch 2/50\n",
      "60000/60000 [==============================] - 17s 283us/step - loss: 0.0779 - accuracy: 0.9769 - val_loss: 0.0603 - val_accuracy: 0.9807\n",
      "Epoch 3/50\n",
      "60000/60000 [==============================] - 17s 284us/step - loss: 0.0519 - accuracy: 0.9843 - val_loss: 0.0511 - val_accuracy: 0.9825\n",
      "Epoch 4/50\n",
      "60000/60000 [==============================] - 17s 284us/step - loss: 0.0385 - accuracy: 0.9886 - val_loss: 0.0483 - val_accuracy: 0.9841\n",
      "Epoch 5/50\n",
      "60000/60000 [==============================] - 17s 283us/step - loss: 0.0289 - accuracy: 0.9916 - val_loss: 0.0417 - val_accuracy: 0.9863\n",
      "Epoch 6/50\n",
      "60000/60000 [==============================] - 17s 285us/step - loss: 0.0222 - accuracy: 0.9934 - val_loss: 0.0445 - val_accuracy: 0.9858\n",
      "Epoch 7/50\n",
      "60000/60000 [==============================] - 17s 289us/step - loss: 0.0188 - accuracy: 0.9943 - val_loss: 0.0444 - val_accuracy: 0.9861\n",
      "Epoch 8/50\n",
      "60000/60000 [==============================] - 18s 293us/step - loss: 0.0142 - accuracy: 0.9961 - val_loss: 0.0541 - val_accuracy: 0.9848\n",
      "Epoch 9/50\n",
      "60000/60000 [==============================] - 18s 302us/step - loss: 0.0113 - accuracy: 0.9970 - val_loss: 0.0462 - val_accuracy: 0.9861\n",
      "Epoch 10/50\n",
      "60000/60000 [==============================] - 19s 314us/step - loss: 0.0087 - accuracy: 0.9976 - val_loss: 0.0479 - val_accuracy: 0.9863\n",
      "Epoch 11/50\n",
      "60000/60000 [==============================] - 19s 313us/step - loss: 0.0077 - accuracy: 0.9977 - val_loss: 0.0510 - val_accuracy: 0.9862\n",
      "Epoch 12/50\n",
      "60000/60000 [==============================] - 17s 286us/step - loss: 0.0065 - accuracy: 0.9982 - val_loss: 0.0540 - val_accuracy: 0.9850\n",
      "Epoch 13/50\n",
      "60000/60000 [==============================] - 17s 278us/step - loss: 0.0055 - accuracy: 0.9985 - val_loss: 0.0470 - val_accuracy: 0.9873\n",
      "Epoch 14/50\n",
      "60000/60000 [==============================] - 18s 293us/step - loss: 0.0050 - accuracy: 0.9985 - val_loss: 0.0510 - val_accuracy: 0.9876\n",
      "Epoch 15/50\n",
      "60000/60000 [==============================] - 17s 285us/step - loss: 0.0035 - accuracy: 0.9989 - val_loss: 0.0554 - val_accuracy: 0.9866\n",
      "Epoch 16/50\n",
      "60000/60000 [==============================] - 16s 262us/step - loss: 0.0044 - accuracy: 0.9986 - val_loss: 0.0516 - val_accuracy: 0.9876\n",
      "Epoch 17/50\n",
      "60000/60000 [==============================] - 17s 287us/step - loss: 0.0028 - accuracy: 0.9992 - val_loss: 0.0566 - val_accuracy: 0.9864\n",
      "Epoch 18/50\n",
      "60000/60000 [==============================] - 16s 266us/step - loss: 0.0039 - accuracy: 0.9987 - val_loss: 0.0619 - val_accuracy: 0.9861\n",
      "Epoch 19/50\n",
      "60000/60000 [==============================] - 17s 279us/step - loss: 0.0046 - accuracy: 0.9986 - val_loss: 0.0541 - val_accuracy: 0.9871\n",
      "Epoch 20/50\n",
      "60000/60000 [==============================] - 17s 291us/step - loss: 0.0019 - accuracy: 0.9994 - val_loss: 0.0611 - val_accuracy: 0.9860\n",
      "Epoch 21/50\n",
      "60000/60000 [==============================] - 18s 292us/step - loss: 0.0041 - accuracy: 0.9987 - val_loss: 0.0559 - val_accuracy: 0.9866\n",
      "Epoch 22/50\n",
      "60000/60000 [==============================] - 17s 284us/step - loss: 0.0022 - accuracy: 0.9993 - val_loss: 0.0537 - val_accuracy: 0.9866\n",
      "Epoch 23/50\n",
      "60000/60000 [==============================] - 18s 304us/step - loss: 0.0013 - accuracy: 0.9997 - val_loss: 0.0599 - val_accuracy: 0.9874\n",
      "Epoch 24/50\n",
      "60000/60000 [==============================] - 18s 294us/step - loss: 5.4347e-04 - accuracy: 0.9999 - val_loss: 0.0553 - val_accuracy: 0.9879\n",
      "Epoch 25/50\n",
      "60000/60000 [==============================] - 17s 278us/step - loss: 1.0581e-04 - accuracy: 1.0000 - val_loss: 0.0538 - val_accuracy: 0.9893\n",
      "Epoch 26/50\n",
      "60000/60000 [==============================] - 18s 298us/step - loss: 5.6965e-05 - accuracy: 1.0000 - val_loss: 0.0559 - val_accuracy: 0.9890\n",
      "Epoch 27/50\n",
      "60000/60000 [==============================] - 17s 277us/step - loss: 4.3659e-05 - accuracy: 1.0000 - val_loss: 0.0566 - val_accuracy: 0.9896\n",
      "Epoch 28/50\n",
      "60000/60000 [==============================] - 16s 266us/step - loss: 3.5363e-05 - accuracy: 1.0000 - val_loss: 0.0580 - val_accuracy: 0.9894\n",
      "Epoch 29/50\n",
      "60000/60000 [==============================] - 16s 263us/step - loss: 2.8403e-05 - accuracy: 1.0000 - val_loss: 0.0590 - val_accuracy: 0.9891\n",
      "Epoch 30/50\n",
      "60000/60000 [==============================] - 16s 269us/step - loss: 2.3557e-05 - accuracy: 1.0000 - val_loss: 0.0596 - val_accuracy: 0.9892\n",
      "Epoch 31/50\n",
      "60000/60000 [==============================] - 17s 280us/step - loss: 1.9512e-05 - accuracy: 1.0000 - val_loss: 0.0607 - val_accuracy: 0.9892\n",
      "Epoch 32/50\n",
      "60000/60000 [==============================] - 16s 262us/step - loss: 1.6594e-05 - accuracy: 1.0000 - val_loss: 0.0621 - val_accuracy: 0.9888\n",
      "Epoch 33/50\n",
      "60000/60000 [==============================] - 16s 262us/step - loss: 1.3947e-05 - accuracy: 1.0000 - val_loss: 0.0624 - val_accuracy: 0.9890\n",
      "Epoch 34/50\n",
      "60000/60000 [==============================] - 16s 261us/step - loss: 0.0108 - accuracy: 0.9964 - val_loss: 0.0542 - val_accuracy: 0.9870\n",
      "Epoch 35/50\n",
      "60000/60000 [==============================] - 17s 280us/step - loss: 0.0032 - accuracy: 0.9989 - val_loss: 0.0618 - val_accuracy: 0.9857\n",
      "Epoch 36/50\n",
      "60000/60000 [==============================] - 16s 267us/step - loss: 0.0012 - accuracy: 0.9997 - val_loss: 0.0518 - val_accuracy: 0.9885\n",
      "Epoch 37/50\n",
      "60000/60000 [==============================] - 16s 263us/step - loss: 1.6120e-04 - accuracy: 1.0000 - val_loss: 0.0510 - val_accuracy: 0.9888\n",
      "Epoch 38/50\n",
      "60000/60000 [==============================] - 19s 311us/step - loss: 6.1211e-05 - accuracy: 1.0000 - val_loss: 0.0526 - val_accuracy: 0.9889\n",
      "Epoch 39/50\n",
      "60000/60000 [==============================] - 17s 277us/step - loss: 4.3752e-05 - accuracy: 1.0000 - val_loss: 0.0548 - val_accuracy: 0.9888\n",
      "Epoch 40/50\n",
      "60000/60000 [==============================] - 16s 266us/step - loss: 3.3719e-05 - accuracy: 1.0000 - val_loss: 0.0563 - val_accuracy: 0.9892\n",
      "Epoch 41/50\n",
      "60000/60000 [==============================] - 17s 290us/step - loss: 2.6896e-05 - accuracy: 1.0000 - val_loss: 0.0570 - val_accuracy: 0.9891\n",
      "Epoch 42/50\n",
      "60000/60000 [==============================] - 17s 291us/step - loss: 2.1415e-05 - accuracy: 1.0000 - val_loss: 0.0589 - val_accuracy: 0.9892\n",
      "Epoch 43/50\n",
      "60000/60000 [==============================] - 17s 289us/step - loss: 1.6978e-05 - accuracy: 1.0000 - val_loss: 0.0602 - val_accuracy: 0.9896\n",
      "Epoch 44/50\n",
      "60000/60000 [==============================] - 17s 289us/step - loss: 1.4133e-05 - accuracy: 1.0000 - val_loss: 0.0611 - val_accuracy: 0.9893\n",
      "Epoch 45/50\n",
      "60000/60000 [==============================] - 18s 299us/step - loss: 1.1416e-05 - accuracy: 1.0000 - val_loss: 0.0632 - val_accuracy: 0.9891\n",
      "Epoch 46/50\n",
      "60000/60000 [==============================] - 17s 287us/step - loss: 9.3260e-06 - accuracy: 1.0000 - val_loss: 0.0628 - val_accuracy: 0.9892\n",
      "Epoch 47/50\n",
      "60000/60000 [==============================] - 18s 301us/step - loss: 7.5973e-06 - accuracy: 1.0000 - val_loss: 0.0650 - val_accuracy: 0.9894\n",
      "Epoch 48/50\n",
      "60000/60000 [==============================] - 17s 291us/step - loss: 6.2384e-06 - accuracy: 1.0000 - val_loss: 0.0659 - val_accuracy: 0.9895\n",
      "Epoch 49/50\n",
      "60000/60000 [==============================] - 18s 302us/step - loss: 4.9549e-06 - accuracy: 1.0000 - val_loss: 0.0667 - val_accuracy: 0.9896\n",
      "Epoch 50/50\n",
      "60000/60000 [==============================] - 17s 290us/step - loss: 4.1212e-06 - accuracy: 1.0000 - val_loss: 0.0686 - val_accuracy: 0.9891\n"
     ]
    },
    {
     "data": {
      "text/plain": [
       "<keras.callbacks.callbacks.History at 0x7f89d2665978>"
      ]
     },
     "execution_count": 5,
     "metadata": {},
     "output_type": "execute_result"
    }
   ],
   "source": [
    "model.fit(trainX,trainY,batch_size = 128, epochs = 50 , verbose = 1,validation_data = (testX,testY))"
   ]
  },
  {
   "cell_type": "code",
   "execution_count": 6,
   "metadata": {},
   "outputs": [
    {
     "name": "stdout",
     "output_type": "stream",
     "text": [
      "Test loss: 0.06855716139277872\n",
      "Test accuracy: 0.9890999794006348\n"
     ]
    }
   ],
   "source": [
    "score = model.evaluate(testX,testY,verbose=0)\n",
    "print('Test loss:',score[0])\n",
    "print('Test accuracy:',score[1])"
   ]
  },
  {
   "cell_type": "code",
   "execution_count": 7,
   "metadata": {},
   "outputs": [
    {
     "name": "stdout",
     "output_type": "stream",
     "text": [
      "Model: \"sequential_1\"\n",
      "_________________________________________________________________\n",
      "Layer (type)                 Output Shape              Param #   \n",
      "=================================================================\n",
      "conv2d_1 (Conv2D)            (None, 26, 26, 32)        320       \n",
      "_________________________________________________________________\n",
      "max_pooling2d_1 (MaxPooling2 (None, 13, 13, 32)        0         \n",
      "_________________________________________________________________\n",
      "flatten_1 (Flatten)          (None, 5408)              0         \n",
      "_________________________________________________________________\n",
      "dense_1 (Dense)              (None, 100)               540900    \n",
      "_________________________________________________________________\n",
      "dense_2 (Dense)              (None, 10)                1010      \n",
      "=================================================================\n",
      "Total params: 542,230\n",
      "Trainable params: 542,230\n",
      "Non-trainable params: 0\n",
      "_________________________________________________________________\n"
     ]
    }
   ],
   "source": [
    "model.summary()"
   ]
  },
  {
   "cell_type": "code",
   "execution_count": 8,
   "metadata": {},
   "outputs": [],
   "source": [
    "model1 = Sequential()\n",
    "model1.add(Conv2D(32,(3,3),activation = 'relu'))\n",
    "model1.add(MaxPooling2D(2,2))\n",
    "model1.add(Conv2D(64,(3,3),activation = 'relu'))\n",
    "model1.add(MaxPooling2D(2,2))\n",
    "model1.add(BatchNormalization())\n",
    "model1.add(Conv2D(128,(3,3),activation = 'relu'))\n",
    "model1.add(Flatten())\n",
    "model1.add(Dense(128, activation = 'relu'))\n",
    "model1.add(BatchNormalization())\n",
    "model1.add(Dropout(0.5))\n",
    "model1.add(Dense(128, activation = 'relu'))\n",
    "model1.add(Dropout(0.5))\n",
    "model1.add(Dense(10,activation = 'softmax'))\n",
    "opt = Adam()\n",
    "model1.compile(optimizer = opt, loss = 'categorical_crossentropy', metrics = ['accuracy'])\n",
    "    "
   ]
  },
  {
   "cell_type": "code",
   "execution_count": 9,
   "metadata": {
    "scrolled": false
   },
   "outputs": [
    {
     "name": "stdout",
     "output_type": "stream",
     "text": [
      "Train on 60000 samples, validate on 10000 samples\n",
      "Epoch 1/50\n",
      "60000/60000 [==============================] - 33s 545us/step - loss: 0.2884 - accuracy: 0.9141 - val_loss: 0.1605 - val_accuracy: 0.9590\n",
      "Epoch 2/50\n",
      "60000/60000 [==============================] - 32s 535us/step - loss: 0.0790 - accuracy: 0.9776 - val_loss: 0.0438 - val_accuracy: 0.9873\n",
      "Epoch 3/50\n",
      "60000/60000 [==============================] - 32s 538us/step - loss: 0.0593 - accuracy: 0.9833 - val_loss: 0.0450 - val_accuracy: 0.9868\n",
      "Epoch 4/50\n",
      "60000/60000 [==============================] - 31s 509us/step - loss: 0.0435 - accuracy: 0.9879 - val_loss: 0.0409 - val_accuracy: 0.9885\n",
      "Epoch 5/50\n",
      "60000/60000 [==============================] - 31s 516us/step - loss: 0.0356 - accuracy: 0.9896 - val_loss: 0.0340 - val_accuracy: 0.9908\n",
      "Epoch 6/50\n",
      "60000/60000 [==============================] - 31s 515us/step - loss: 0.0314 - accuracy: 0.9908 - val_loss: 0.0552 - val_accuracy: 0.9854\n",
      "Epoch 7/50\n",
      "60000/60000 [==============================] - 30s 495us/step - loss: 0.0285 - accuracy: 0.9919 - val_loss: 0.0300 - val_accuracy: 0.9920\n",
      "Epoch 8/50\n",
      "60000/60000 [==============================] - 30s 495us/step - loss: 0.0241 - accuracy: 0.9929 - val_loss: 0.0331 - val_accuracy: 0.9921\n",
      "Epoch 9/50\n",
      "60000/60000 [==============================] - 30s 492us/step - loss: 0.0218 - accuracy: 0.9938 - val_loss: 0.0457 - val_accuracy: 0.9892\n",
      "Epoch 10/50\n",
      "60000/60000 [==============================] - 32s 528us/step - loss: 0.0217 - accuracy: 0.9934 - val_loss: 0.0329 - val_accuracy: 0.9916\n",
      "Epoch 11/50\n",
      "60000/60000 [==============================] - 31s 509us/step - loss: 0.0164 - accuracy: 0.9953 - val_loss: 0.0318 - val_accuracy: 0.9923\n",
      "Epoch 12/50\n",
      "60000/60000 [==============================] - 30s 508us/step - loss: 0.0150 - accuracy: 0.9957 - val_loss: 0.0485 - val_accuracy: 0.9888\n",
      "Epoch 13/50\n",
      "60000/60000 [==============================] - 31s 525us/step - loss: 0.0169 - accuracy: 0.9951 - val_loss: 0.0437 - val_accuracy: 0.9914\n",
      "Epoch 14/50\n",
      "60000/60000 [==============================] - 36s 592us/step - loss: 0.0142 - accuracy: 0.9961 - val_loss: 0.0399 - val_accuracy: 0.9918\n",
      "Epoch 15/50\n",
      "60000/60000 [==============================] - 32s 537us/step - loss: 0.0128 - accuracy: 0.9962 - val_loss: 0.0332 - val_accuracy: 0.9930\n",
      "Epoch 16/50\n",
      "60000/60000 [==============================] - 34s 566us/step - loss: 0.0110 - accuracy: 0.9969 - val_loss: 0.0416 - val_accuracy: 0.9909\n",
      "Epoch 17/50\n",
      "60000/60000 [==============================] - 32s 539us/step - loss: 0.0103 - accuracy: 0.9968 - val_loss: 0.0304 - val_accuracy: 0.9931\n",
      "Epoch 18/50\n",
      "60000/60000 [==============================] - 37s 612us/step - loss: 0.0106 - accuracy: 0.9968 - val_loss: 0.0583 - val_accuracy: 0.9897\n",
      "Epoch 19/50\n",
      "60000/60000 [==============================] - 33s 547us/step - loss: 0.0095 - accuracy: 0.9972 - val_loss: 0.0344 - val_accuracy: 0.9928\n",
      "Epoch 20/50\n",
      "60000/60000 [==============================] - 36s 607us/step - loss: 0.0084 - accuracy: 0.9974 - val_loss: 0.0391 - val_accuracy: 0.9925\n",
      "Epoch 21/50\n",
      "60000/60000 [==============================] - 39s 654us/step - loss: 0.0081 - accuracy: 0.9973 - val_loss: 0.0446 - val_accuracy: 0.9918\n",
      "Epoch 22/50\n",
      "60000/60000 [==============================] - 37s 621us/step - loss: 0.0078 - accuracy: 0.9977 - val_loss: 0.0419 - val_accuracy: 0.9927\n",
      "Epoch 23/50\n",
      "60000/60000 [==============================] - 36s 603us/step - loss: 0.0071 - accuracy: 0.9981 - val_loss: 0.0443 - val_accuracy: 0.9913\n",
      "Epoch 24/50\n",
      "60000/60000 [==============================] - 35s 585us/step - loss: 0.0072 - accuracy: 0.9979 - val_loss: 0.0453 - val_accuracy: 0.9926\n",
      "Epoch 25/50\n",
      "60000/60000 [==============================] - 33s 542us/step - loss: 0.0086 - accuracy: 0.9977 - val_loss: 0.0387 - val_accuracy: 0.9920\n",
      "Epoch 26/50\n",
      "60000/60000 [==============================] - 32s 538us/step - loss: 0.0061 - accuracy: 0.9981 - val_loss: 0.0319 - val_accuracy: 0.9937\n",
      "Epoch 27/50\n",
      "60000/60000 [==============================] - 34s 563us/step - loss: 0.0067 - accuracy: 0.9982 - val_loss: 0.0365 - val_accuracy: 0.9925\n",
      "Epoch 28/50\n",
      "60000/60000 [==============================] - 36s 592us/step - loss: 0.0062 - accuracy: 0.9981 - val_loss: 0.0477 - val_accuracy: 0.9916\n",
      "Epoch 29/50\n",
      "60000/60000 [==============================] - 36s 594us/step - loss: 0.0071 - accuracy: 0.9979 - val_loss: 0.0442 - val_accuracy: 0.9916\n",
      "Epoch 30/50\n",
      "60000/60000 [==============================] - 34s 558us/step - loss: 0.0063 - accuracy: 0.9981 - val_loss: 0.0361 - val_accuracy: 0.9940\n",
      "Epoch 31/50\n",
      "60000/60000 [==============================] - 36s 592us/step - loss: 0.0056 - accuracy: 0.9985 - val_loss: 0.0406 - val_accuracy: 0.9931\n",
      "Epoch 32/50\n",
      "60000/60000 [==============================] - 33s 543us/step - loss: 0.0045 - accuracy: 0.9988 - val_loss: 0.0473 - val_accuracy: 0.9922\n",
      "Epoch 33/50\n",
      "60000/60000 [==============================] - 38s 628us/step - loss: 0.0056 - accuracy: 0.9983 - val_loss: 0.0393 - val_accuracy: 0.9933\n",
      "Epoch 34/50\n",
      "60000/60000 [==============================] - 38s 641us/step - loss: 0.0050 - accuracy: 0.9985 - val_loss: 0.0457 - val_accuracy: 0.9921\n",
      "Epoch 35/50\n",
      "60000/60000 [==============================] - 37s 618us/step - loss: 0.0057 - accuracy: 0.9985 - val_loss: 0.0384 - val_accuracy: 0.9932\n",
      "Epoch 36/50\n",
      "60000/60000 [==============================] - 37s 611us/step - loss: 0.0066 - accuracy: 0.9981 - val_loss: 0.0424 - val_accuracy: 0.9935\n",
      "Epoch 37/50\n",
      "60000/60000 [==============================] - 37s 612us/step - loss: 0.0037 - accuracy: 0.9988 - val_loss: 0.0409 - val_accuracy: 0.9931\n",
      "Epoch 38/50\n",
      "60000/60000 [==============================] - 32s 539us/step - loss: 0.0037 - accuracy: 0.9990 - val_loss: 0.0442 - val_accuracy: 0.9930\n",
      "Epoch 39/50\n",
      "60000/60000 [==============================] - 36s 598us/step - loss: 0.0053 - accuracy: 0.9985 - val_loss: 0.0596 - val_accuracy: 0.9913\n",
      "Epoch 40/50\n",
      "60000/60000 [==============================] - 37s 611us/step - loss: 0.0041 - accuracy: 0.9988 - val_loss: 0.0393 - val_accuracy: 0.9932\n",
      "Epoch 41/50\n",
      "60000/60000 [==============================] - 37s 615us/step - loss: 0.0034 - accuracy: 0.9989 - val_loss: 0.0459 - val_accuracy: 0.9931\n",
      "Epoch 42/50\n",
      "60000/60000 [==============================] - 35s 580us/step - loss: 0.0043 - accuracy: 0.9991 - val_loss: 0.0815 - val_accuracy: 0.9863\n",
      "Epoch 43/50\n",
      "60000/60000 [==============================] - 33s 552us/step - loss: 0.0043 - accuracy: 0.9987 - val_loss: 0.0495 - val_accuracy: 0.9926\n",
      "Epoch 44/50\n",
      "60000/60000 [==============================] - 33s 542us/step - loss: 0.0044 - accuracy: 0.9989 - val_loss: 0.0399 - val_accuracy: 0.9938\n",
      "Epoch 45/50\n",
      "60000/60000 [==============================] - 33s 544us/step - loss: 0.0033 - accuracy: 0.9989 - val_loss: 0.0468 - val_accuracy: 0.9931\n",
      "Epoch 46/50\n",
      "60000/60000 [==============================] - 33s 550us/step - loss: 0.0051 - accuracy: 0.9987 - val_loss: 0.0480 - val_accuracy: 0.9933\n",
      "Epoch 47/50\n",
      "60000/60000 [==============================] - 33s 554us/step - loss: 0.0032 - accuracy: 0.9991 - val_loss: 0.0475 - val_accuracy: 0.9931\n",
      "Epoch 48/50\n",
      "60000/60000 [==============================] - 33s 556us/step - loss: 0.0049 - accuracy: 0.9987 - val_loss: 0.0551 - val_accuracy: 0.9928\n",
      "Epoch 49/50\n",
      "60000/60000 [==============================] - 33s 546us/step - loss: 0.0041 - accuracy: 0.9991 - val_loss: 0.0436 - val_accuracy: 0.9927\n",
      "Epoch 50/50\n",
      "60000/60000 [==============================] - 33s 547us/step - loss: 0.0045 - accuracy: 0.9987 - val_loss: 0.0457 - val_accuracy: 0.9931\n"
     ]
    },
    {
     "data": {
      "text/plain": [
       "<keras.callbacks.callbacks.History at 0x7f89aa2ac3c8>"
      ]
     },
     "execution_count": 9,
     "metadata": {},
     "output_type": "execute_result"
    }
   ],
   "source": [
    "model1.fit(trainX,trainY,batch_size = 128, epochs = 50 , verbose = 1,validation_data = (testX,testY))"
   ]
  },
  {
   "cell_type": "code",
   "execution_count": 10,
   "metadata": {},
   "outputs": [
    {
     "name": "stdout",
     "output_type": "stream",
     "text": [
      "Test loss: 0.04574199730614292\n",
      "Test accuracy: 0.9930999875068665\n"
     ]
    }
   ],
   "source": [
    "score1 = model1.evaluate(testX,testY,verbose=0)\n",
    "print('Test loss:',score1[0])\n",
    "print('Test accuracy:',score1[1])"
   ]
  },
  {
   "cell_type": "code",
   "execution_count": 11,
   "metadata": {
    "collapsed": true
   },
   "outputs": [
    {
     "name": "stdout",
     "output_type": "stream",
     "text": [
      "Model: \"sequential_2\"\n",
      "_________________________________________________________________\n",
      "Layer (type)                 Output Shape              Param #   \n",
      "=================================================================\n",
      "conv2d_2 (Conv2D)            (None, 26, 26, 32)        320       \n",
      "_________________________________________________________________\n",
      "max_pooling2d_2 (MaxPooling2 (None, 13, 13, 32)        0         \n",
      "_________________________________________________________________\n",
      "conv2d_3 (Conv2D)            (None, 11, 11, 64)        18496     \n",
      "_________________________________________________________________\n",
      "max_pooling2d_3 (MaxPooling2 (None, 5, 5, 64)          0         \n",
      "_________________________________________________________________\n",
      "batch_normalization_1 (Batch (None, 5, 5, 64)          256       \n",
      "_________________________________________________________________\n",
      "conv2d_4 (Conv2D)            (None, 3, 3, 128)         73856     \n",
      "_________________________________________________________________\n",
      "flatten_2 (Flatten)          (None, 1152)              0         \n",
      "_________________________________________________________________\n",
      "dense_3 (Dense)              (None, 128)               147584    \n",
      "_________________________________________________________________\n",
      "batch_normalization_2 (Batch (None, 128)               512       \n",
      "_________________________________________________________________\n",
      "dropout_1 (Dropout)          (None, 128)               0         \n",
      "_________________________________________________________________\n",
      "dense_4 (Dense)              (None, 128)               16512     \n",
      "_________________________________________________________________\n",
      "dropout_2 (Dropout)          (None, 128)               0         \n",
      "_________________________________________________________________\n",
      "dense_5 (Dense)              (None, 10)                1290      \n",
      "=================================================================\n",
      "Total params: 258,826\n",
      "Trainable params: 258,442\n",
      "Non-trainable params: 384\n",
      "_________________________________________________________________\n"
     ]
    }
   ],
   "source": [
    "model1.summary()"
   ]
  },
  {
   "cell_type": "code",
   "execution_count": null,
   "metadata": {},
   "outputs": [],
   "source": []
  },
  {
   "cell_type": "code",
   "execution_count": 12,
   "metadata": {},
   "outputs": [],
   "source": [
    "model2 = Sequential()\n",
    "model2.add(Conv2D(32,(3,3),activation = 'relu'))\n",
    "model2.add(MaxPooling2D(2,2))\n",
    "model2.add(Conv2D(64,(3,3),activation = 'relu'))\n",
    "model2.add(MaxPooling2D(2,2))\n",
    "model2.add(BatchNormalization())\n",
    "model2.add(Conv2D(128,(3,3),activation = 'relu'))\n",
    "model2.add(GlobalMaxPooling2D())\n",
    "model2.add(Dense(128, activation = 'relu'))\n",
    "model2.add(BatchNormalization())\n",
    "model2.add(Dropout(0.5))\n",
    "model2.add(Dense(128, activation = 'relu'))\n",
    "model2.add(Dropout(0.5))\n",
    "model2.add(Dense(10,activation = 'softmax'))\n",
    "opt = Adam()\n",
    "model2.compile(optimizer = opt, loss = 'categorical_crossentropy', metrics = ['accuracy'])\n",
    "    "
   ]
  },
  {
   "cell_type": "code",
   "execution_count": 13,
   "metadata": {
    "scrolled": false
   },
   "outputs": [
    {
     "name": "stdout",
     "output_type": "stream",
     "text": [
      "Train on 60000 samples, validate on 10000 samples\n",
      "Epoch 1/50\n",
      "60000/60000 [==============================] - 35s 578us/step - loss: 0.3399 - accuracy: 0.8967 - val_loss: 0.3029 - val_accuracy: 0.9031\n",
      "Epoch 2/50\n",
      "60000/60000 [==============================] - 34s 568us/step - loss: 0.0862 - accuracy: 0.9754 - val_loss: 0.0428 - val_accuracy: 0.9868\n",
      "Epoch 3/50\n",
      "60000/60000 [==============================] - 37s 613us/step - loss: 0.0619 - accuracy: 0.9829 - val_loss: 0.0426 - val_accuracy: 0.9882\n",
      "Epoch 4/50\n",
      "60000/60000 [==============================] - 36s 602us/step - loss: 0.0478 - accuracy: 0.9863 - val_loss: 0.0345 - val_accuracy: 0.9896\n",
      "Epoch 5/50\n",
      "60000/60000 [==============================] - 29s 485us/step - loss: 0.0405 - accuracy: 0.9886 - val_loss: 0.0317 - val_accuracy: 0.9905\n",
      "Epoch 6/50\n",
      "60000/60000 [==============================] - 36s 595us/step - loss: 0.0333 - accuracy: 0.9902 - val_loss: 0.0364 - val_accuracy: 0.9902\n",
      "Epoch 7/50\n",
      "60000/60000 [==============================] - 33s 547us/step - loss: 0.0290 - accuracy: 0.9916 - val_loss: 0.0330 - val_accuracy: 0.9907\n",
      "Epoch 8/50\n",
      "60000/60000 [==============================] - 32s 529us/step - loss: 0.0282 - accuracy: 0.9918 - val_loss: 0.0381 - val_accuracy: 0.9910\n",
      "Epoch 9/50\n",
      "60000/60000 [==============================] - 32s 531us/step - loss: 0.0255 - accuracy: 0.9919 - val_loss: 0.0296 - val_accuracy: 0.9918\n",
      "Epoch 10/50\n",
      "60000/60000 [==============================] - 32s 531us/step - loss: 0.0213 - accuracy: 0.9937 - val_loss: 0.0409 - val_accuracy: 0.9883\n",
      "Epoch 11/50\n",
      "60000/60000 [==============================] - 35s 582us/step - loss: 0.0207 - accuracy: 0.9939 - val_loss: 0.0352 - val_accuracy: 0.9902\n",
      "Epoch 12/50\n",
      "60000/60000 [==============================] - 35s 576us/step - loss: 0.0172 - accuracy: 0.9949 - val_loss: 0.0381 - val_accuracy: 0.9906\n",
      "Epoch 13/50\n",
      "60000/60000 [==============================] - 29s 482us/step - loss: 0.0180 - accuracy: 0.9947 - val_loss: 0.0380 - val_accuracy: 0.9898\n",
      "Epoch 14/50\n",
      "60000/60000 [==============================] - 30s 500us/step - loss: 0.0148 - accuracy: 0.9955 - val_loss: 0.0411 - val_accuracy: 0.9903\n",
      "Epoch 15/50\n",
      "60000/60000 [==============================] - 34s 565us/step - loss: 0.0172 - accuracy: 0.9946 - val_loss: 0.0373 - val_accuracy: 0.9915\n",
      "Epoch 16/50\n",
      "60000/60000 [==============================] - 32s 531us/step - loss: 0.0144 - accuracy: 0.9954 - val_loss: 0.0370 - val_accuracy: 0.9909\n",
      "Epoch 17/50\n",
      "60000/60000 [==============================] - 31s 523us/step - loss: 0.0123 - accuracy: 0.9964 - val_loss: 0.0283 - val_accuracy: 0.9927\n",
      "Epoch 18/50\n",
      "60000/60000 [==============================] - 32s 527us/step - loss: 0.0118 - accuracy: 0.9962 - val_loss: 0.0275 - val_accuracy: 0.9933\n",
      "Epoch 19/50\n",
      "60000/60000 [==============================] - 32s 527us/step - loss: 0.0118 - accuracy: 0.9962 - val_loss: 0.0406 - val_accuracy: 0.9908\n",
      "Epoch 20/50\n",
      "60000/60000 [==============================] - 33s 550us/step - loss: 0.0125 - accuracy: 0.9961 - val_loss: 0.0416 - val_accuracy: 0.9914\n",
      "Epoch 21/50\n",
      "60000/60000 [==============================] - 34s 561us/step - loss: 0.0123 - accuracy: 0.9961 - val_loss: 0.0449 - val_accuracy: 0.9912\n",
      "Epoch 22/50\n",
      "60000/60000 [==============================] - 31s 510us/step - loss: 0.0080 - accuracy: 0.9974 - val_loss: 0.0397 - val_accuracy: 0.9917\n",
      "Epoch 23/50\n",
      "60000/60000 [==============================] - 35s 583us/step - loss: 0.0100 - accuracy: 0.9968 - val_loss: 0.0619 - val_accuracy: 0.9895\n",
      "Epoch 24/50\n",
      "60000/60000 [==============================] - 35s 589us/step - loss: 0.0111 - accuracy: 0.9966 - val_loss: 0.0346 - val_accuracy: 0.9917\n",
      "Epoch 25/50\n",
      "60000/60000 [==============================] - 32s 542us/step - loss: 0.0088 - accuracy: 0.9972 - val_loss: 0.0368 - val_accuracy: 0.9918\n",
      "Epoch 26/50\n",
      "60000/60000 [==============================] - 35s 578us/step - loss: 0.0090 - accuracy: 0.9969 - val_loss: 0.0415 - val_accuracy: 0.9921\n",
      "Epoch 27/50\n",
      "60000/60000 [==============================] - 35s 582us/step - loss: 0.0091 - accuracy: 0.9971 - val_loss: 0.0432 - val_accuracy: 0.9923\n",
      "Epoch 28/50\n",
      "60000/60000 [==============================] - 31s 518us/step - loss: 0.0093 - accuracy: 0.9971 - val_loss: 0.0425 - val_accuracy: 0.9909\n",
      "Epoch 29/50\n",
      "60000/60000 [==============================] - 33s 552us/step - loss: 0.0063 - accuracy: 0.9981 - val_loss: 0.0386 - val_accuracy: 0.9916\n",
      "Epoch 30/50\n",
      "60000/60000 [==============================] - 33s 544us/step - loss: 0.0059 - accuracy: 0.9983 - val_loss: 0.0371 - val_accuracy: 0.9914\n",
      "Epoch 31/50\n",
      "60000/60000 [==============================] - 33s 557us/step - loss: 0.0079 - accuracy: 0.9973 - val_loss: 0.0467 - val_accuracy: 0.9905\n",
      "Epoch 32/50\n",
      "60000/60000 [==============================] - 34s 560us/step - loss: 0.0085 - accuracy: 0.9972 - val_loss: 0.0410 - val_accuracy: 0.9914\n",
      "Epoch 33/50\n",
      "60000/60000 [==============================] - 32s 541us/step - loss: 0.0077 - accuracy: 0.9974 - val_loss: 0.0370 - val_accuracy: 0.9928\n",
      "Epoch 34/50\n",
      "60000/60000 [==============================] - 32s 538us/step - loss: 0.0051 - accuracy: 0.9984 - val_loss: 0.0459 - val_accuracy: 0.9918\n",
      "Epoch 35/50\n",
      "60000/60000 [==============================] - 34s 559us/step - loss: 0.0083 - accuracy: 0.9977 - val_loss: 0.0477 - val_accuracy: 0.9907\n",
      "Epoch 36/50\n",
      "60000/60000 [==============================] - 33s 546us/step - loss: 0.0073 - accuracy: 0.9978 - val_loss: 0.0321 - val_accuracy: 0.9936\n",
      "Epoch 37/50\n",
      "60000/60000 [==============================] - 35s 586us/step - loss: 0.0056 - accuracy: 0.9984 - val_loss: 0.0368 - val_accuracy: 0.9933\n",
      "Epoch 38/50\n",
      "60000/60000 [==============================] - 33s 552us/step - loss: 0.0044 - accuracy: 0.9987 - val_loss: 0.0456 - val_accuracy: 0.9927\n",
      "Epoch 39/50\n",
      "60000/60000 [==============================] - 31s 525us/step - loss: 0.0052 - accuracy: 0.9984 - val_loss: 0.0373 - val_accuracy: 0.9932\n",
      "Epoch 40/50\n",
      "60000/60000 [==============================] - 33s 544us/step - loss: 0.0068 - accuracy: 0.9978 - val_loss: 0.0365 - val_accuracy: 0.9935\n",
      "Epoch 41/50\n",
      "60000/60000 [==============================] - 33s 543us/step - loss: 0.0065 - accuracy: 0.9980 - val_loss: 0.0374 - val_accuracy: 0.9923\n",
      "Epoch 42/50\n",
      "60000/60000 [==============================] - 31s 522us/step - loss: 0.0058 - accuracy: 0.9983 - val_loss: 0.0301 - val_accuracy: 0.9944\n",
      "Epoch 43/50\n",
      "60000/60000 [==============================] - 31s 522us/step - loss: 0.0034 - accuracy: 0.9988 - val_loss: 0.0407 - val_accuracy: 0.9931\n",
      "Epoch 44/50\n",
      "60000/60000 [==============================] - 34s 563us/step - loss: 0.0059 - accuracy: 0.9982 - val_loss: 0.0398 - val_accuracy: 0.9929\n",
      "Epoch 45/50\n",
      "60000/60000 [==============================] - 32s 536us/step - loss: 0.0044 - accuracy: 0.9986 - val_loss: 0.0546 - val_accuracy: 0.9907\n",
      "Epoch 46/50\n",
      "60000/60000 [==============================] - 32s 541us/step - loss: 0.0055 - accuracy: 0.9982 - val_loss: 0.0396 - val_accuracy: 0.9923\n",
      "Epoch 47/50\n",
      "60000/60000 [==============================] - 32s 538us/step - loss: 0.0047 - accuracy: 0.9984 - val_loss: 0.0509 - val_accuracy: 0.9919\n",
      "Epoch 48/50\n",
      "60000/60000 [==============================] - 32s 529us/step - loss: 0.0046 - accuracy: 0.9986 - val_loss: 0.0376 - val_accuracy: 0.9936\n",
      "Epoch 49/50\n",
      "60000/60000 [==============================] - 32s 527us/step - loss: 0.0044 - accuracy: 0.9987 - val_loss: 0.0422 - val_accuracy: 0.9928\n",
      "Epoch 50/50\n",
      "60000/60000 [==============================] - 32s 534us/step - loss: 0.0059 - accuracy: 0.9984 - val_loss: 0.0420 - val_accuracy: 0.9937\n"
     ]
    },
    {
     "data": {
      "text/plain": [
       "<keras.callbacks.callbacks.History at 0x7f89a9229a58>"
      ]
     },
     "execution_count": 13,
     "metadata": {},
     "output_type": "execute_result"
    }
   ],
   "source": [
    "model2.fit(trainX,trainY,batch_size = 128, epochs = 50 , verbose = 1,validation_data = (testX,testY))"
   ]
  },
  {
   "cell_type": "code",
   "execution_count": 16,
   "metadata": {},
   "outputs": [
    {
     "name": "stdout",
     "output_type": "stream",
     "text": [
      "Model: \"sequential_3\"\n",
      "_________________________________________________________________\n",
      "Layer (type)                 Output Shape              Param #   \n",
      "=================================================================\n",
      "conv2d_5 (Conv2D)            (None, 26, 26, 32)        320       \n",
      "_________________________________________________________________\n",
      "max_pooling2d_4 (MaxPooling2 (None, 13, 13, 32)        0         \n",
      "_________________________________________________________________\n",
      "conv2d_6 (Conv2D)            (None, 11, 11, 64)        18496     \n",
      "_________________________________________________________________\n",
      "max_pooling2d_5 (MaxPooling2 (None, 5, 5, 64)          0         \n",
      "_________________________________________________________________\n",
      "batch_normalization_3 (Batch (None, 5, 5, 64)          256       \n",
      "_________________________________________________________________\n",
      "conv2d_7 (Conv2D)            (None, 3, 3, 128)         73856     \n",
      "_________________________________________________________________\n",
      "global_max_pooling2d_1 (Glob (None, 128)               0         \n",
      "_________________________________________________________________\n",
      "dense_6 (Dense)              (None, 128)               16512     \n",
      "_________________________________________________________________\n",
      "batch_normalization_4 (Batch (None, 128)               512       \n",
      "_________________________________________________________________\n",
      "dropout_3 (Dropout)          (None, 128)               0         \n",
      "_________________________________________________________________\n",
      "dense_7 (Dense)              (None, 128)               16512     \n",
      "_________________________________________________________________\n",
      "dropout_4 (Dropout)          (None, 128)               0         \n",
      "_________________________________________________________________\n",
      "dense_8 (Dense)              (None, 10)                1290      \n",
      "=================================================================\n",
      "Total params: 127,754\n",
      "Trainable params: 127,370\n",
      "Non-trainable params: 384\n",
      "_________________________________________________________________\n"
     ]
    }
   ],
   "source": [
    "model2.summary()"
   ]
  },
  {
   "cell_type": "code",
   "execution_count": 18,
   "metadata": {},
   "outputs": [
    {
     "name": "stdout",
     "output_type": "stream",
     "text": [
      "Test loss: 0.04574199730614292\n",
      "Test accuracy: 0.9930999875068665\n"
     ]
    }
   ],
   "source": [
    "score2 = model2.evaluate(testX,testY,verbose=0)\n",
    "print('Test loss:',score1[0])\n",
    "print('Test accuracy:',score1[1])"
   ]
  },
  {
   "cell_type": "code",
   "execution_count": null,
   "metadata": {},
   "outputs": [],
   "source": []
  }
 ],
 "metadata": {
  "kernelspec": {
   "display_name": "Python 3",
   "language": "python",
   "name": "python3"
  },
  "language_info": {
   "codemirror_mode": {
    "name": "ipython",
    "version": 3
   },
   "file_extension": ".py",
   "mimetype": "text/x-python",
   "name": "python",
   "nbconvert_exporter": "python",
   "pygments_lexer": "ipython3",
   "version": "3.6.9"
  }
 },
 "nbformat": 4,
 "nbformat_minor": 2
}
